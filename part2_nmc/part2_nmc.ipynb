{
 "cells": [
  {
   "cell_type": "markdown",
   "id": "e14559ce",
   "metadata": {},
   "source": [
    "# Cluster Expansion on NMC\n",
    "<sup>by Alexander S. Tygesen and Jin Hyun Chang</sup>\n",
    "\n",
    "In this tutorial, we're taking a look at the cathode material known as NMC (Ni-Mn-Co). It is a layered lithium cathode material, and it is a good material for exploration using cluster expansion as due to the large number of possible configurations of Ni, Mn and Co elements. We wiill construct a cluster expansion model for NMC and use the MC model to construct convex-hull curve and simulate the open-circuit voltage (OCV) at various lithation levels for different ratios of Ni, Mn and Co.\n",
    "\n",
    "A database with pre-calculated energies with varying Ni-Mn-Co ratios and lithation degrees is provided. The structural and energetic information are drawn from DFT calculations, and generating these dataset during the tutorial is impactical as it will take too much time and compuational resources.\n",
    "\n",
    "## Primitive structure\n",
    "\n",
    "First, let's take a look at the primitive structure of the layered NMC material. You should see that the material has a layered structure (try repeating the structure for a clearer visual representation). All transition metal (TM) sites are occupied by Co in this cell, but we will allow the TM sites to be occupied by either a Ni, Co or Mn atom."
   ]
  },
  {
   "cell_type": "code",
   "execution_count": null,
   "id": "b2657c73",
   "metadata": {},
   "outputs": [],
   "source": [
    "from ase.io import read\n",
    "from ase.visualize import view\n",
    "prim = read(\"primitive_nmc.traj\")\n",
    "view(prim)"
   ]
  },
  {
   "cell_type": "markdown",
   "id": "4c46d4c0",
   "metadata": {},
   "source": [
    "The structures provided in the database are a $ 2 \\times2\\times1$ supercell of this primitive cell.\n",
    "\n",
    "- How many atoms should we expect in the supercell?\n",
    "- Think about what possible configurations are possible in such a supercell."
   ]
  },
  {
   "cell_type": "markdown",
   "id": "fd4fb8da",
   "metadata": {},
   "source": [
    "## Examining the data\n",
    "\n",
    "As mentioned previously, we have provided you with a database consisting of randomly generated NMC structures, which is placed in the file ``clease_nmc.db``. It is always a good idea to visualize the data before starting to analyze it."
   ]
  },
  {
   "cell_type": "code",
   "execution_count": null,
   "id": "97263923",
   "metadata": {},
   "outputs": [],
   "source": [
    "!ase db clease_nmc.db"
   ]
  },
  {
   "cell_type": "markdown",
   "id": "393966cd",
   "metadata": {},
   "source": [
    "The code below will visualize all of the initial structures in the database. Note that vacancies are marked with an ``X`` atom in ASE."
   ]
  },
  {
   "cell_type": "code",
   "execution_count": null,
   "id": "a97799db",
   "metadata": {},
   "outputs": [],
   "source": [
    "from ase.db import connect\n",
    "con = connect(\"clease_nmc.db\")\n",
    "view([row.toatoms() for row in con.select(struct_type=\"initial\")])"
   ]
  },
  {
   "cell_type": "markdown",
   "id": "86a2ed5c",
   "metadata": {},
   "source": [
    "## Cluster Expansion Settings\n",
    "\n",
    "First, we need to specify the concentration of each species in the primitive cell. The space group of the structure is 164, and it has 7 basis sites in the primitive cell. One can find these using the ``get_basis`` and ``get_spacegroup`` functions from the ``ase.spacegroup`` module, but we just provide them here:"
   ]
  },
  {
   "cell_type": "code",
   "execution_count": null,
   "id": "fb028777",
   "metadata": {},
   "outputs": [],
   "source": [
    "import numpy as np\n",
    "basis = np.array([[0.      , 0.      , 0.      ],\n",
    "                  [0.666667, 0.333333, 0.333333],\n",
    "                  [0.333333, 0.666667, 0.166667],\n",
    "                  [0.      , 0.      , 0.5     ],\n",
    "                  [0.      , 0.      , 0.239587],\n",
    "                  [0.666667, 0.333333, 0.093746],\n",
    "                  [0.666667, 0.333333, 0.57292 ]])\n",
    "symbols = [\"Li\", \"Li\", \"Co\", \"Co\", \"O\", \"O\", \"O\"]  # The corresponding symbol for each basis site\n",
    "\n",
    "# The cell parameters\n",
    "cell = np.array(prim.get_cell())"
   ]
  },
  {
   "cell_type": "markdown",
   "id": "7877eb8e",
   "metadata": {},
   "source": [
    "From the above, we deduce the following concentration object. A ``grouped_basis`` simply refers to two basis lattices that we consider to be equivalent. In this example, we do not distiguish the two basis of Li, `[0.      , 0.      , 0.      ]` and `[0.666667, 0.333333, 0.333333]`; we treat them to be equivalent by grouping them together using ``grouped_basis``. The same holds for the TM sites (marked with a \"Co\" symbol) and oxygen sites."
   ]
  },
  {
   "cell_type": "code",
   "execution_count": null,
   "id": "c6e0acc7",
   "metadata": {},
   "outputs": [],
   "source": [
    "from clease.settings import Concentration\n",
    "conc = Concentration(basis_elements=[[\"Li\", \"X\"], [\"Li\", \"X\"],\n",
    "                                     [\"Co\", \"Mn\", \"Ni\"], [\"Co\", \"Mn\", \"Ni\"],\n",
    "                                     [\"O\"], [\"O\"], [\"O\"]],\n",
    "                     grouped_basis=[(0, 1), (2, 3), (4, 5, 6)])"
   ]
  },
  {
   "cell_type": "markdown",
   "id": "e0de707b",
   "metadata": {},
   "source": [
    "We then construct the settings object based on the spacegroup and the provided basis.\n",
    "\n",
    "- How large clusters are we going to consider here?"
   ]
  },
  {
   "cell_type": "code",
   "execution_count": null,
   "id": "5071c455",
   "metadata": {},
   "outputs": [],
   "source": [
    "from clease.settings import CECrystal\n",
    "db_name = \"clease_nmc.db\"\n",
    "settings = CECrystal(conc, db_name=db_name, spacegroup=164, basis=basis, cell=np.array(prim.get_cell()),\n",
    "                     basis_func_type=\"binary_linear\", max_cluster_dia=[5, 5])"
   ]
  },
  {
   "cell_type": "markdown",
   "id": "e80fb148",
   "metadata": {},
   "source": [
    "We recommend not adjusting the cluster diameters, as that would require the database to be reconfigured, which may take a while (~5 minutes). Should you want to recalculate the correlation functions, you can do it with the following code (remember to enable)"
   ]
  },
  {
   "cell_type": "code",
   "execution_count": null,
   "id": "188ceae6",
   "metadata": {},
   "outputs": [],
   "source": [
    "if 0:  # Set to 1 to enable\n",
    "    from clease.tools import reconfigure\n",
    "    reconfigure(settings, verbose=True)"
   ]
  },
  {
   "cell_type": "markdown",
   "id": "af715fe5",
   "metadata": {},
   "source": [
    "## Evaluation of the CE model\n",
    "\n",
    "Since we already have the energies in the database, we do not need to do any energy calculations. Instead, we can simply go straight to fitting as good a CE model as possible.\n",
    "\n",
    "We encourage you to play around with different settings and schemes, but at least try out the $\\ell_1$ and $\\ell_2$ regularization schemes. Try and optimize for the best possible CV score."
   ]
  },
  {
   "cell_type": "code",
   "execution_count": null,
   "id": "6c2b1de9",
   "metadata": {
    "scrolled": false
   },
   "outputs": [],
   "source": [
    "%matplotlib notebook\n",
    "from clease import Evaluate\n",
    "import clease.plot_post_process as pp\n",
    "\n",
    "# Set fitting_scheme to \"l2\" to use l2 regularization instead\n",
    "fitting_scheme = \"l1\"\n",
    "eva = Evaluate(settings=settings, fitting_scheme=fitting_scheme, scoring_scheme='k-fold', nsplits=10)\n",
    "\n",
    "print(\"Evaluating alphas\")\n",
    "# scan different values of alpha and return all values of alpha and its corresponding CV scores\n",
    "alphas, cvs = eva.alpha_CV(alpha_min=1E-7, alpha_max=1.0, num_alpha=50)\n",
    "\n",
    "# set the alpha value to the one that yields the lowest CV score, and fit data using it.\n",
    "idx = cvs.argmin()\n",
    "alpha = alphas[idx]\n",
    "print(f\"Optimized alpha: {alpha:.3e}\")\n",
    "\n",
    "# Plot the cross validation\n",
    "pp.plot_cv(eva)\n",
    "\n",
    "eva.set_fitting_scheme(fitting_scheme=fitting_scheme, alpha=alpha)\n",
    "eva.get_eci()\n",
    "pp.plot_fit(eva)\n",
    "\n",
    "# plot convex hull.\n",
    "pp.plot_convex_hull(eva)\n",
    "\n",
    "# plot ECI values, an emptry list is passed to ignore_sizes to plot all cluster sizes \n",
    "pp.plot_eci(eva)\n",
    "\n",
    "# save a dictionary containing cluster names and their ECIs\n",
    "eva.save_eci(fname=f'eci_{fitting_scheme}.json')"
   ]
  },
  {
   "cell_type": "markdown",
   "id": "c9301b3a",
   "metadata": {},
   "source": [
    "## Simulated Annealing\n",
    "\n",
    "In order to achieve a model of the energies as a function of lithation level, we use an even larger supercell, which allows us a much more fine-grained control. A Monte Carlo (MC) simulation is used in a simulated annealing (SA) to find the lowest energy configuration of a given set of concentrations, and also allows us to explore the temperature dependence of the energies.\n",
    "\n",
    "In this example, we will explore NMC with a 6:2:2 ratio between Ni, Mn and Co ($\\mathrm{LiNi_{0.6} Mn_{0.2} Co_{0.2} O_2}$), which is one of the stable phases known experimentally. One could also have explored these configurations using the CE model, to try and identify the stable mixing ratios.\n",
    "\n",
    "First step is to set up a model template structure. We use a $8\\times8\\times2$ supercell of the primitive cell, which totals 1536 atoms. It is definitely possible to use a larger cell, but it would be more demanding on the computational resources, so we restrict ourselves to a reasonable size of $8\\times8\\times2$ supercell for demonstration. "
   ]
  },
  {
   "cell_type": "code",
   "execution_count": null,
   "id": "5f18e5af",
   "metadata": {},
   "outputs": [],
   "source": [
    "supercell = settings.prim_cell * (8, 8, 2)\n",
    "view(supercell)"
   ]
  },
  {
   "cell_type": "markdown",
   "id": "c90d5c01",
   "metadata": {},
   "source": [
    "We then also need to set the concentrations of the respective sublattices. As mentioned previously, we are going to be calculating 622 NMC."
   ]
  },
  {
   "cell_type": "code",
   "execution_count": null,
   "id": "593f2ca6",
   "metadata": {},
   "outputs": [],
   "source": [
    "template = supercell.copy()\n",
    "mask = template.symbols == \"Co\"  # Location of the TM atoms\n",
    "N = sum(template.symbols == \"Co\")  # Number of TM sites\n",
    "\n",
    "N_Co = int(0.2 * N)  # 20% Co\n",
    "N_Mn = int(0.2 * N)  # 20% Mn\n",
    "N_Ni = N - N_Co - N_Mn   # ~60% Ni (remainder)\n",
    "\n",
    "print(f\"Ni: {N_Ni}, Mn: {N_Mn}, Co: {N_Co}\")\n",
    "\n",
    "new_symbols = N_Co * [\"Co\"] + N_Mn * [\"Mn\"] + N_Ni * [\"Ni\"]\n",
    "template.symbols[mask] = new_symbols\n",
    "view(template)"
   ]
  },
  {
   "cell_type": "markdown",
   "id": "5a385650",
   "metadata": {},
   "source": [
    "Verify that we indeed have approximately 60% Ni, 20% Co and 20% Mn in our working supercell by visualization. What is the degree of lithiation in this template?\n",
    "\n",
    "Next, we need construct the CLEASE calculator object, which is going to be evaluating the energies during the MC simulations. For this, we need the ECI values which you fitted earlier."
   ]
  },
  {
   "cell_type": "code",
   "execution_count": null,
   "id": "4d9f78a3",
   "metadata": {},
   "outputs": [],
   "source": [
    "import json\n",
    "from clease.calculator import attach_calculator\n",
    "\n",
    "fitting_scheme = \"l1\"\n",
    "filename = f'eci_{fitting_scheme}.json'\n",
    "with open(filename) as file:\n",
    "    eci = json.load(file)\n",
    "print(\"Loaded ECI. Attaching calculator...\")\n",
    "    \n",
    "atoms = attach_calculator(settings, template, eci=eci)\n",
    "print(\"Done!\")"
   ]
  },
  {
   "cell_type": "markdown",
   "id": "d3d1aaab",
   "metadata": {},
   "source": [
    "Finally, we are ready to run our SA. Set the number of swaps (``n_steps``), and adjust the temperature ranges as you see fit. You may need to reduce the number of steps if and swaps if the simulation is taking too long, or increase it if the simulation is not good enough. "
   ]
  },
  {
   "cell_type": "code",
   "execution_count": null,
   "id": "d75c7883",
   "metadata": {},
   "outputs": [],
   "source": [
    "from clease.montecarlo import Montecarlo\n",
    "from clease.montecarlo.constraints import ConstrainSwapByBasis\n",
    "from clease.montecarlo.observers import LowestEnergyStructure\n",
    "from tqdm.notebook import tqdm\n",
    "\n",
    "def run_mc(atoms, t_max=30_000, t_min=1, t_steps=10):\n",
    "    # Temperatures in log-space\n",
    "    temps = np.logspace(np.log10(t_max), np.log10(t_min), t_steps)\n",
    "\n",
    "    n_steps = len(atoms) * 3  # How many swaps are we going to do per temperature?\n",
    "\n",
    "    mc = Montecarlo(atoms, temps[0])\n",
    "\n",
    "    # We need to dis-allow sublattices from mixing\n",
    "    cnst = ConstrainSwapByBasis(atoms, settings.index_by_basis)\n",
    "    mc.generator.add_constraint(cnst)\n",
    "\n",
    "    # Keep track of the lowest energy structure\n",
    "    emin_obs = LowestEnergyStructure(atoms)\n",
    "    mc.attach(emin_obs)\n",
    "\n",
    "    # We track the average energy and other thermodynamic quantities as a function of temp\n",
    "    results = []\n",
    "\n",
    "    with tqdm(temps) as t:\n",
    "        for temp in t:\n",
    "            t.set_description(f\"Temp: {temp:.1f} K\")\n",
    "            mc.T = temp\n",
    "            mc.run(n_steps)\n",
    "            res = mc.get_thermodynamic_quantities()\n",
    "            results.append(res)\n",
    "    # Return the minimum energy atoms and the thermodynamic quantities we collected\n",
    "    return emin_obs.emin_atoms, results\n",
    "\n",
    "emin_atoms, results = run_mc(atoms)  # Execute the MC run"
   ]
  },
  {
   "cell_type": "markdown",
   "id": "0894bb23",
   "metadata": {},
   "source": [
    "Let's take a look at configuration which gave us the lowest energy during the entire run."
   ]
  },
  {
   "cell_type": "code",
   "execution_count": null,
   "id": "af49408d",
   "metadata": {},
   "outputs": [],
   "source": [
    "emin = emin_atoms.get_potential_energy()\n",
    "print(f\"Lowest energy during SA: {emin:.24} eV\")\n",
    "view(emin_atoms)"
   ]
  },
  {
   "cell_type": "markdown",
   "id": "018ba5a9",
   "metadata": {},
   "source": [
    "We can construct a Pandas data frame from the MC results, and get an overview of the structural evolution as a function of temperature:"
   ]
  },
  {
   "cell_type": "code",
   "execution_count": null,
   "id": "14231d35",
   "metadata": {},
   "outputs": [],
   "source": [
    "import pandas as pd\n",
    "df = pd.DataFrame(results)\n",
    "df"
   ]
  },
  {
   "cell_type": "code",
   "execution_count": null,
   "id": "a49649e4",
   "metadata": {},
   "outputs": [],
   "source": [
    "import matplotlib.pyplot as plt\n",
    "\n",
    "fig, ax = plt.subplots()\n",
    "x = df['temperature']\n",
    "y = df['energy'] / len(atoms)  # Average energy per atom\n",
    "ax.plot(x, y)\n",
    "ax.invert_xaxis()\n",
    "ax.set_xscale(\"log\")\n",
    "ax.set_ylabel(\"Average Energy (eV/atom)\")\n",
    "ax.set_xlabel(\"Temperature (K)\")"
   ]
  },
  {
   "cell_type": "markdown",
   "id": "b5f4485d",
   "metadata": {},
   "source": [
    "## Simulating the lithiation degrees\n",
    "\n",
    "In the previous part, we had 100% lithation. We now move to modelling different degrees of lithation. To do this, we reuse the same template from previously, but now introduce vacancies (marked as `X` atoms) on the lithium sites."
   ]
  },
  {
   "cell_type": "code",
   "execution_count": null,
   "id": "06b7e706",
   "metadata": {},
   "outputs": [],
   "source": [
    "def make_delithiated(li_frac: float):\n",
    "    \"\"\"This function constructs a new atoms object from the template with a given degree of lithiation.\"\"\"\n",
    "    mask = template.symbols == \"Li\"   # Locate all Li sites\n",
    "    tot_sites = sum(mask)\n",
    "    n_li = int(li_frac * tot_sites)\n",
    "    n_vac = tot_sites - n_li\n",
    "    \n",
    "    new_symbols = n_li * [\"Li\"] + n_vac * [\"X\"]\n",
    "    atoms = template.copy()\n",
    "    atoms.symbols[mask] = new_symbols\n",
    "    return atoms"
   ]
  },
  {
   "cell_type": "markdown",
   "id": "d618ad94",
   "metadata": {},
   "source": [
    "Let's run the MC at various lithation degrees:"
   ]
  },
  {
   "cell_type": "code",
   "execution_count": null,
   "id": "4debd2f6",
   "metadata": {},
   "outputs": [],
   "source": [
    "all_results = []\n",
    "emin_atoms = []\n",
    "for x in np.linspace(1, 0, 20):\n",
    "    print(f\"Lithation degree: {x*100:.2f} %\")\n",
    "    atoms = make_delithiated(x)\n",
    "    # Remember to attach a new calculator to the atoms object\n",
    "    atoms = attach_calculator(settings, atoms, eci=eci)\n",
    "    # Execute the MC\n",
    "    ats, results = run_mc(atoms, t_steps=20)\n",
    "    # Collect and store the results\n",
    "    for result in results:\n",
    "        # Add a custom key in the result dictionary with the current lithation degree\n",
    "        # This makes processing and plotting the data later a little easier.\n",
    "        result['lithiation'] = x\n",
    "    all_results.extend(results)\n",
    "    emin_atoms.append(ats)  "
   ]
  },
  {
   "cell_type": "code",
   "execution_count": null,
   "id": "6f034b97",
   "metadata": {},
   "outputs": [],
   "source": [
    "df_li = pd.DataFrame(all_results)\n",
    "df_li.to_json(\"nmc_lithiation_data.json\")  # Save the data frame to a file, so we can recover it later\n",
    "df_li"
   ]
  },
  {
   "cell_type": "markdown",
   "id": "b92d795e",
   "metadata": {},
   "source": [
    "We can also visualize all of the minimum energy structures at each calculated concentration level. What kind of patterns do you see?"
   ]
  },
  {
   "cell_type": "code",
   "execution_count": null,
   "id": "28ff495b",
   "metadata": {},
   "outputs": [],
   "source": [
    "view(emin_atoms)"
   ]
  },
  {
   "cell_type": "markdown",
   "id": "d793d09f",
   "metadata": {},
   "source": [
    "Finally, let's look at the convex hull of the structures, and study the temperature dependence."
   ]
  },
  {
   "cell_type": "code",
   "execution_count": null,
   "id": "70e6ecb5",
   "metadata": {},
   "outputs": [],
   "source": [
    "import numpy as np\n",
    "from scipy.spatial import ConvexHull\n",
    "from ase.formula import Formula\n",
    "from collections import namedtuple\n",
    "import matplotlib.pyplot as plt\n",
    "from scipy.interpolate import interp1d, interp2d\n",
    "\n",
    "# Energy per atom in BCC Li\n",
    "e_li_bulk = -1.954936\n",
    "\n",
    "x = df_li[\"lithiation\"]\n",
    "y = df_li[\"temperature\"]\n",
    "# Energy per formula unit, we know we always have 2 Oxygen per unit cell\n",
    "z = df_li[\"energy\"] / (sum(atoms.symbols==\"O\") / 2)  \n",
    "\n",
    "# 2D Interpolate the lithation degree and temperature to the energy, i.e.\n",
    "#  en_interp(x_li, temp) = energy\n",
    "# linearly interpolates between each datapoint\n",
    "en_interp = interp2d(x, y, z)\n",
    "\n",
    "def get_formation_energy(x, temp):\n",
    "    \"\"\"Formation energy:\n",
    "    E_x - x * E_1 - x * E_0,\n",
    "    where x is the degree of lithation, E_1 is the fully lithiated structure,\n",
    "    and E_0 is completely delithiated\n",
    "    \"\"\"\n",
    "    val = en_interp(x, temp) - x * en_interp(1, temp) - (1 - x) * en_interp(0, temp)\n",
    "    return float(val[0])  # \"val\" is a a list with 1 element\n",
    "\n",
    "def calculate_all_energies(temp, npts=100):\n",
    "    \"\"\"Calculate the formation energies at all lithiation degrees from 0 to 1.\"\"\"\n",
    "    x_range = np.linspace(0, 1, npts)\n",
    "    en = np.array([get_formation_energy(x, temp) for x in x_range])\n",
    "    return x_range, en\n",
    "\n",
    "def get_lower_convex_simplices(temp):\n",
    "      \n",
    "    lithiation, energies = calculate_all_energies(temp)\n",
    "    ch_points = list(zip(lithiation, energies))\n",
    "    \n",
    "    hull = ConvexHull(ch_points)\n",
    "    \n",
    "    def is_lower_hull(simplex):\n",
    "        return all(ch_points[i][1] <= 0 for i in simplex)\n",
    "\n",
    "    #print([simplex for simplex in hull.simplices])\n",
    "    #print([is_lower_hull(simplex) for simplex in hull.simplices])\n",
    "\n",
    "    simplices = sorted(filter(is_lower_hull, hull.simplices), key=lambda simplex: min(lithiation[simplex]))\n",
    "    simplices = np.array(simplices)\n",
    "    return simplices\n",
    "\n",
    "def get_ocv(temp):\n",
    "    x, y = calculate_all_energies(temp)\n",
    "    simplices = get_lower_convex_simplices(temp)\n",
    "\n",
    "    # Recalculate the voltage on a new grid\n",
    "    grid = np.linspace(0, 1, 500)\n",
    "    dx = grid[1] - grid[0]\n",
    "\n",
    "    all_points = sorted(set(s for simplex in simplices for s in simplex))\n",
    "\n",
    "    # Interpolate the energy onto the energies on the hull\n",
    "    f = interp1d(x[all_points], en_interp(x[all_points], temp), kind=\"linear\")\n",
    "    G = f(grid)\n",
    "    dG = np.gradient(G, dx)\n",
    "\n",
    "    # The voltage\n",
    "    v = - (dG - e_li_bulk)\n",
    "    return grid, v\n",
    "\n",
    "def plot_ch(temp, ax):\n",
    "    x, y = calculate_all_energies(temp)\n",
    "    simplices = get_lower_convex_simplices(temp)\n",
    "    \n",
    "    ax.plot(x, y, 'o')\n",
    "    # Plot simplices\n",
    "    for ii, simplex in enumerate(simplices):\n",
    "        x_cnv = x[simplex]\n",
    "        y_cnv = y[simplex]\n",
    "        if ii == 0:\n",
    "            # Only make label on first plot\n",
    "            label1 = \"Lower hull\"\n",
    "            label2 = \"Stable points on hull\"\n",
    "        else:\n",
    "            label1, label2 = None, None\n",
    "        ax.plot(x_cnv, y_cnv, 'k-', label=label1)\n",
    "        ax.plot(x_cnv, y_cnv, 'ro', label=label2)\n",
    "    ax.set_ylabel('E$_{form}$ (eV)')\n",
    "    ax.legend()\n",
    "    ax.set_xlabel(\"$x$ in Li$_x$(NMC)O$_2$\")\n",
    "\n",
    "def plot_ocv(tempp, ax):\n",
    "    grid, v = get_ocv(temp)\n",
    "    ax.plot(grid, v)\n",
    "    ax.set_xlabel(\"$x$ in Li$_x$(NMC)O$_2$\")\n",
    "    ax.set_ylabel(\"Voltage (V)\")"
   ]
  },
  {
   "cell_type": "markdown",
   "id": "ec6f5ae3",
   "metadata": {},
   "source": [
    "Let's plot the convex hull and OCV"
   ]
  },
  {
   "cell_type": "code",
   "execution_count": null,
   "id": "58a6417f",
   "metadata": {
    "scrolled": false
   },
   "outputs": [],
   "source": [
    "temp = 300  # Set the desired temperature\n",
    "fig, (ax0, ax1) = plt.subplots(nrows=2, ncols=1, sharex=True)\n",
    "plot_ch(temp, ax0)\n",
    "plot_ocv(temp, ax1)\n",
    "ax0.set_title(f\"Temperature: {temp:.1f} K\")"
   ]
  },
  {
   "cell_type": "markdown",
   "id": "079f7d87",
   "metadata": {},
   "source": [
    "How does your results compare to the experimentally determined OCV from Appl. Sci. 2019, 9, 3671: [doi:10.3390/app9183671](https://doi.org/10.3390/app9183671)\n",
    "\n",
    "<img src=\"nmc_622_ocv.png\" style=\"width: 700px;\"/>"
   ]
  }
 ],
 "metadata": {
  "kernelspec": {
   "display_name": "Python 3 (ipykernel)",
   "language": "python",
   "name": "python3"
  },
  "language_info": {
   "codemirror_mode": {
    "name": "ipython",
    "version": 3
   },
   "file_extension": ".py",
   "mimetype": "text/x-python",
   "name": "python",
   "nbconvert_exporter": "python",
   "pygments_lexer": "ipython3",
   "version": "3.9.9"
  }
 },
 "nbformat": 4,
 "nbformat_minor": 5
}
